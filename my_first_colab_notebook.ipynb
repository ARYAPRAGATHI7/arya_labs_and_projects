{
  "nbformat": 4,
  "nbformat_minor": 0,
  "metadata": {
    "colab": {
      "provenance": [],
      "authorship_tag": "ABX9TyPtKOn4jUOpUS2k2WSoijqh",
      "include_colab_link": true
    },
    "kernelspec": {
      "name": "python3",
      "display_name": "Python 3"
    },
    "language_info": {
      "name": "python"
    }
  },
  "cells": [
    {
      "cell_type": "markdown",
      "metadata": {
        "id": "view-in-github",
        "colab_type": "text"
      },
      "source": [
        "<a href=\"https://colab.research.google.com/github/ARYAPRAGATHI7/arya_labs_and_projects/blob/main/my_first_colab_notebook.ipynb\" target=\"_parent\"><img src=\"https://colab.research.google.com/assets/colab-badge.svg\" alt=\"Open In Colab\"/></a>"
      ]
    },
    {
      "cell_type": "markdown",
      "source": [
        "hi all\n",
        "today is frist day to use colad"
      ],
      "metadata": {
        "id": "9MMhjAk5hM_b"
      }
    },
    {
      "cell_type": "code",
      "execution_count": null,
      "metadata": {
        "id": "0-GVjcAKhIbq"
      },
      "outputs": [],
      "source": [
        "import numpy as np;"
      ]
    },
    {
      "cell_type": "code",
      "source": [
        "a=[1,2,3,3]\n",
        "b=[2,3,4,5]"
      ],
      "metadata": {
        "id": "cDv6lL4ghkgv"
      },
      "execution_count": null,
      "outputs": []
    },
    {
      "cell_type": "code",
      "source": [
        "c=np.array(a)\n",
        "c1=np.array(b)"
      ],
      "metadata": {
        "id": "2Cuct4sKhvg1"
      },
      "execution_count": null,
      "outputs": []
    },
    {
      "cell_type": "code",
      "source": [
        "#addition\n",
        "print(c+c1)\n",
        "#subtraction\n",
        "print(c-c1)\n",
        "#scalar multi\n",
        "print(c*c1)\n",
        "#dot produt\n",
        "print(np.dot(a,b))\n",
        "#length\n",
        "print(np.linalg.norm(a))"
      ],
      "metadata": {
        "colab": {
          "base_uri": "https://localhost:8080/"
        },
        "id": "lq09Lcd-iAXz",
        "outputId": "009b7f71-e2bf-4c60-d103-f2e7fe20be23"
      },
      "execution_count": null,
      "outputs": [
        {
          "output_type": "stream",
          "name": "stdout",
          "text": [
            "[3 5 7 8]\n",
            "[-1 -1 -1 -2]\n",
            "[ 2  6 12 15]\n",
            "35\n",
            "4.795831523312719\n"
          ]
        }
      ]
    },
    {
      "cell_type": "code",
      "source": [
        "c+c1\n"
      ],
      "metadata": {
        "colab": {
          "base_uri": "https://localhost:8080/"
        },
        "id": "JaJo0-t-iK-L",
        "outputId": "3028a2be-d13a-4f03-cea0-5ecafb572581"
      },
      "execution_count": null,
      "outputs": [
        {
          "output_type": "execute_result",
          "data": {
            "text/plain": [
              "array([3, 5, 7, 8])"
            ]
          },
          "metadata": {},
          "execution_count": 7
        }
      ]
    }
  ]
}