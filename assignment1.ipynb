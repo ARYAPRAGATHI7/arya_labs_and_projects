{
  "nbformat": 4,
  "nbformat_minor": 0,
  "metadata": {
    "colab": {
      "provenance": [],
      "toc_visible": true,
      "authorship_tag": "ABX9TyMTpYF/ruOO5NEjGXtvE5o9",
      "include_colab_link": true
    },
    "kernelspec": {
      "name": "python3",
      "display_name": "Python 3"
    },
    "language_info": {
      "name": "python"
    }
  },
  "cells": [
    {
      "cell_type": "markdown",
      "metadata": {
        "id": "view-in-github",
        "colab_type": "text"
      },
      "source": [
        "<a href=\"https://colab.research.google.com/github/ARYAPRAGATHI7/arya_labs_and_projects/blob/main/assignment1.ipynb\" target=\"_parent\"><img src=\"https://colab.research.google.com/assets/colab-badge.svg\" alt=\"Open In Colab\"/></a>"
      ]
    },
    {
      "cell_type": "markdown",
      "source": [
        "**This My First Assignment.**\n",
        "\n",
        "1Q.differnce between inner product and outer product.\n",
        "\n",
        "A.\n",
        "\n",
        "# 1.INNER PRODUCT:\n",
        "\n",
        "\n",
        "*   The inner product results in a matrix of reduced dimensions.\n",
        "*   Inner products simply require that the number of columns of the first\n",
        "  matrix equal the number of rows of the second.\n",
        "* It is similar to dot product of matrix.\n",
        "* The inner product is the scalar multiplication of one vector (or matrix) and the transpose of another vector (or matrix).\n",
        "* If both arrays are 1D arrays, their dimensions should be identical.\n",
        "* If either or both arrays are higher-dimensional, then the last dimensions of both arrays should be identic\n",
        "\n",
        "\n"
      ],
      "metadata": {
        "id": "HzWGV5-dWEpJ"
      }
    },
    {
      "cell_type": "markdown",
      "source": [
        "\n",
        "\n",
        "*   for example:"
      ],
      "metadata": {
        "id": "fUS2rXKmaDLA"
      }
    },
    {
      "cell_type": "code",
      "source": [
        "import numpy as n"
      ],
      "metadata": {
        "id": "4-TURGRGYgfT"
      },
      "execution_count": 5,
      "outputs": []
    },
    {
      "cell_type": "code",
      "source": [
        " a = n.array([[5,5,5], [1,1,1]])\n",
        " b = n.array([2,3,2])\n",
        " z = n.inner(a,b)\n",
        " print(z)"
      ],
      "metadata": {
        "colab": {
          "base_uri": "https://localhost:8080/"
        },
        "id": "5d-7rncNYrTS",
        "outputId": "1c1720aa-c924-46d4-fe0c-2f3e4e61f8bb"
      },
      "execution_count": 9,
      "outputs": [
        {
          "output_type": "stream",
          "name": "stdout",
          "text": [
            "[35  7]\n"
          ]
        }
      ]
    },
    {
      "cell_type": "markdown",
      "source": [
        "\n",
        "\n",
        "\n",
        "\n",
        "# **2.OUTER PRODUCT:**\n",
        "\n",
        "\n",
        "* The outer product results in one of expanded dimensions.  \n",
        "*  Taking the outer product of the two vectors we first worked with is as simple as reversing their order.\n",
        "\n",
        "* It turns out the multiplying nd2 by nd is the same as multiplying it by two nd’s stacked on top of each other. That’s an outer product.\n",
        "\n",
        "\n",
        "\n"
      ],
      "metadata": {
        "id": "OwZugWEBaTzB"
      }
    },
    {
      "cell_type": "code",
      "source": [],
      "metadata": {
        "id": "U8sl3pZ5q5o6"
      },
      "execution_count": null,
      "outputs": []
    },
    {
      "cell_type": "code",
      "source": [],
      "metadata": {
        "id": "qB_mXPEPq5qi"
      },
      "execution_count": null,
      "outputs": []
    },
    {
      "cell_type": "code",
      "source": [],
      "metadata": {
        "id": "uPV9e9VHq5sH"
      },
      "execution_count": null,
      "outputs": []
    },
    {
      "cell_type": "code",
      "source": [
        " a = n.array([1,3,5,7,9])\n",
        " b = n.array([ 1 ,3,2])\n",
        " z = n.outer(a,b)\n",
        " print(z)"
      ],
      "metadata": {
        "colab": {
          "base_uri": "https://localhost:8080/"
        },
        "id": "eSDyN8GLZrHM",
        "outputId": "f70dea50-5df3-4822-cb3f-17a834ffdc12"
      },
      "execution_count": 14,
      "outputs": [
        {
          "output_type": "stream",
          "name": "stdout",
          "text": [
            "[[ 1  3  2]\n",
            " [ 3  9  6]\n",
            " [ 5 15 10]\n",
            " [ 7 21 14]\n",
            " [ 9 27 18]]\n"
          ]
        }
      ]
    },
    {
      "cell_type": "markdown",
      "source": [
        "#2Q.About NORMS.\n",
        "\n"
      ],
      "metadata": {
        "id": "CxCAofavoeQK"
      }
    },
    {
      "cell_type": "markdown",
      "source": [
        "A.NORM: Anorm on areal vector space V is a funtion which is denoted in || ||:V->R such that\n",
        "\n",
        "||X||>=0 for all X belongs to V and ||x||=0 iff X=0\n",
        "\n",
        "||aX||=|a| ||X|| for all X elongs to V and a belongs to real numbers.\n",
        "\n",
        "||X+Y||<= ||X||+ ||Y|| for all X,y\n",
        "\n",
        "\n",
        "*  There are few examples of it:\n",
        "\n",
        "* The one-norm is the sum of absolute value.\n",
        "* Euclidean norm.\n",
        "* Maximum norm"
      ],
      "metadata": {
        "id": "wFCg0QU9rUTg"
      }
    },
    {
      "cell_type": "markdown",
      "source": [],
      "metadata": {
        "id": "Yfp_S_d5sMqe"
      }
    }
  ]
}